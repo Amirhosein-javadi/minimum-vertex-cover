{
  "nbformat": 4,
  "nbformat_minor": 0,
  "metadata": {
    "colab": {
      "name": "genetic algorithm.ipynb",
      "provenance": [],
      "collapsed_sections": []
    },
    "kernelspec": {
      "name": "python3",
      "display_name": "Python 3"
    },
    "language_info": {
      "name": "python"
    }
  },
  "cells": [
    {
      "cell_type": "markdown",
      "metadata": {
        "id": "Ipy6yvL3CkrF"
      },
      "source": [
        "## Population Generation\n",
        "\n",
        "The first step of the genetic algorithm is to generate an initial population of different states (chromosomes).\n",
        "\n",
        "Complete the following function. It must generate a population of size $k$ for a graph with $n$ vertices."
      ]
    },
    {
      "cell_type": "code",
      "execution_count": null,
      "metadata": {
        "collectable": true,
        "execution": {
          "iopub.execute_input": "2021-10-01T16:01:12.649651Z",
          "iopub.status.busy": "2021-10-01T16:01:12.649332Z",
          "iopub.status.idle": "2021-10-01T16:01:12.650895Z",
          "shell.execute_reply": "2021-10-01T16:01:12.651148Z"
        },
        "id": "mUoiF8mvCkrF"
      },
      "outputs": [],
      "source": [
        "def population_generation(n, k): \n",
        "    v = np.random.randint(0, 2,(k,n))\n",
        "    return v"
      ]
    },
    {
      "cell_type": "markdown",
      "metadata": {
        "id": "ALzdB94FCkrF"
      },
      "source": [
        "## Cost Function\n",
        "\n",
        "For cost function, we use another, more simple formula for this problem. Because the Genetic algorithm tends to run much longer than simulated annealing, we prefer to use a more simple cost function for this problem.\n",
        "\n",
        "The cost function for this problem is as follows:\n",
        "- Add 1 to the cost for each vertex in the answer\n",
        "- Add 5 (or any other number you prefer) to the cost for each edge that is not covered."
      ]
    },
    {
      "cell_type": "code",
      "execution_count": null,
      "metadata": {
        "collectable": true,
        "id": "mglKlzm5CkrF"
      },
      "outputs": [],
      "source": [
        "def cost_function2(graph,state):\n",
        "    n = np.size(graph,axis=0)\n",
        "    cost = 0\n",
        "    cost += np.sum(state)\n",
        "    Nor_Mat = np.ones((n,n))\n",
        "    for i in range(n):\n",
        "        if (state[i] == 1): \n",
        "                Nor_Mat[i,:] = 0\n",
        "                Nor_Mat[:,i] = 0\n",
        "    cost += 5*np.sum(Nor_Mat*graph_matrix)\n",
        "    return cost"
      ]
    },
    {
      "cell_type": "markdown",
      "metadata": {
        "id": "dQ35tPZOCkrG"
      },
      "source": [
        "## Selection\n",
        "\n",
        "\n",
        "We select the best chromosomes (states) in the selection phase and allow them to pass to the next generation (iteration). Others will be discarded.\n",
        "\n",
        "For this part, we use a procedure named \"tournament selection.\" In this procedure, we divide match each element in population with another one and compare their cost. The winner is the one that has a lower cost, and it gets selected for the next part, and the others are discarded."
      ]
    },
    {
      "cell_type": "code",
      "execution_count": null,
      "metadata": {
        "collectable": true,
        "execution": {
          "iopub.execute_input": "2021-10-01T16:01:12.654554Z",
          "iopub.status.busy": "2021-10-01T16:01:12.654249Z",
          "iopub.status.idle": "2021-10-01T16:01:12.655998Z",
          "shell.execute_reply": "2021-10-01T16:01:12.655682Z"
        },
        "id": "vGuMGv7XCkrG"
      },
      "outputs": [],
      "source": [
        "def tournament_selection(graph, population):\n",
        "    row,col = np.shape(population)\n",
        "    new_population = np.zeros((row//2,col))\n",
        "    for i in range(row//2):\n",
        "        s0 = population[2*i,:]\n",
        "        c0 = cost_function2(graph,s0)\n",
        "        s1 = population[2*i+1,:]\n",
        "        c1 = cost_function2(graph,s1)\n",
        "        if (c0<c1):\n",
        "            new_population[i] = s0\n",
        "        else:\n",
        "            new_population[i] = s1\n",
        "    return new_population"
      ]
    },
    {
      "cell_type": "markdown",
      "metadata": {
        "id": "gdCPAuX6CkrG"
      },
      "source": [
        "## Crossover"
      ]
    },
    {
      "cell_type": "markdown",
      "metadata": {
        "id": "BalZdDxDCkrG"
      },
      "source": [
        "In the crossover phase, we combine two chromosomes to get a better chromosome (solution). There are lots of ways to implement crossover. For this problem, we propose this method:\n",
        "\n",
        "Take two chromosomes as input. Generate a random 'index'. The resulting chromosome consists of genes from chromosome1 from 0 up until 'index' and genes from chromosome2 from 'index+1' until the end. Another chromosome is generated by swapping chromosome1 and chromosome2 and doint the same procedure. "
      ]
    },
    {
      "cell_type": "code",
      "execution_count": null,
      "metadata": {
        "collectable": true,
        "id": "IzzHBWT_CkrG"
      },
      "outputs": [],
      "source": [
        "def crossover(graph, parent1, parent2):\n",
        "    n = len(parent1)\n",
        "    index = np.random.randint(0, n-1)\n",
        "    child1 = np.concatenate((parent1[0:index+1],parent2[index+1:n]), axis=0)\n",
        "    child2 = np.concatenate((parent2[0:index+1],parent1[index+1:n]), axis=0)\n",
        "    return child1, child2"
      ]
    },
    {
      "cell_type": "markdown",
      "metadata": {
        "id": "bs2hkmVXCkrG"
      },
      "source": [
        "## Mutation"
      ]
    },
    {
      "cell_type": "markdown",
      "metadata": {
        "id": "-fpMO0AUCkrH"
      },
      "source": [
        "In the mutation part of this problem, we take chromosomes coming out of Crossover and change them slightly in the hope of getting better. There are many ways to implement mutation. We propose two methods here. You can implement each one of them or even both.\n",
        "\n",
        "For this part, we generate a random number. If this number is greater than the mutation probability, we choose a random index in the chromosome and change it from '0' to '1' or '1' to '0'."
      ]
    },
    {
      "cell_type": "code",
      "execution_count": null,
      "metadata": {
        "collectable": true,
        "id": "Lhh2JVN0CkrH"
      },
      "outputs": [],
      "source": [
        "def mutation(graph,chromosme,probability):\n",
        "    p = random.random()\n",
        "    n = len(chromosme)\n",
        "    if p>probability:\n",
        "        index = np.random.randint(0, n)\n",
        "        chromosme[index] = 1-chromosme[index]\n",
        "    return chromosme"
      ]
    },
    {
      "cell_type": "markdown",
      "metadata": {
        "id": "TdboHlVsCkrH"
      },
      "source": [
        "## Main Algorithm\n",
        "\n",
        "Now implement the main 'genetic_algorithm' function."
      ]
    },
    {
      "cell_type": "code",
      "execution_count": null,
      "metadata": {
        "collectable": true,
        "execution": {
          "iopub.execute_input": "2021-10-01T16:01:12.669076Z",
          "iopub.status.busy": "2021-10-01T16:01:12.668757Z",
          "iopub.status.idle": "2021-10-01T16:01:12.670566Z",
          "shell.execute_reply": "2021-10-01T16:01:12.670252Z"
        },
        "id": "q77_VkBfCkrH"
      },
      "outputs": [],
      "source": [
        "def genetic_algorithm(graph_matrix,mutation_probability=0.1,pop_size=100,max_generation=200):\n",
        "    n = np.size(graph_matrix,axis=0)\n",
        "    population = population_generation(n, pop_size)\n",
        "    counter = 0\n",
        "    best_cost = cost_function2(graph_matrix,population[0,:])\n",
        "    best_solution = population[0,:]\n",
        "    while counter<max_generation:\n",
        "        new_population = tournament_selection(graph_matrix, population)\n",
        "        k = np.size(new_population,axis=0)\n",
        "        for i in range(0,k,2):\n",
        "            parent1 = new_population[i]\n",
        "            parent2 = new_population[i+1]\n",
        "            child1, child2 = crossover(graph_matrix, parent1, parent2)\n",
        "            parent1 = mutation(graph_matrix,parent1,mutation_probability)\n",
        "            parent2 = mutation(graph_matrix,parent2,mutation_probability)\n",
        "            child1 = mutation(graph_matrix,child1,mutation_probability)\n",
        "            child2 = mutation(graph_matrix,child2,mutation_probability)\n",
        "            population[2*i]=parent1\n",
        "            population[2*i+1]=parent2\n",
        "            population[2*i+2]=child1\n",
        "            population[2*i+3]=child2\n",
        "        for i in range(2*k):\n",
        "            cost = cost_function2(graph_matrix,population[i,:])\n",
        "            if cost<best_cost:\n",
        "                best_cost=cost\n",
        "                best_solution = population[i,:]\n",
        "        counter += 1\n",
        "        print(counter,best_cost)\n",
        "    return best_cost,best_solution"
      ]
    },
    {
      "cell_type": "code",
      "execution_count": null,
      "metadata": {
        "execution": {
          "iopub.execute_input": "2021-10-01T16:01:12.672705Z",
          "iopub.status.busy": "2021-10-01T16:01:12.672403Z",
          "iopub.status.idle": "2021-10-01T16:01:36.760222Z",
          "shell.execute_reply": "2021-10-01T16:01:36.759945Z"
        },
        "id": "yl5ebKmECkrH",
        "outputId": "126bfaf8-e48f-4b5a-e4d9-7dd6b692dcfd"
      },
      "outputs": [
        {
          "name": "stdout",
          "output_type": "stream",
          "text": [
            "1 45239.0\n",
            "2 44959.0\n",
            "3 44959.0\n",
            "4 44580.0\n",
            "5 44560.0\n",
            "6 44540.0\n",
            "7 44171.0\n",
            "8 44141.0\n",
            "9 43762.0\n",
            "10 43353.0\n",
            "11 42984.0\n",
            "12 42944.0\n",
            "13 42545.0\n",
            "14 42096.0\n",
            "15 42096.0\n",
            "16 41539.0\n",
            "17 41090.0\n",
            "18 41090.0\n",
            "19 40929.0\n",
            "20 40600.0\n",
            "21 40181.0\n",
            "22 39802.0\n",
            "23 39104.0\n",
            "24 38625.0\n",
            "25 38236.0\n",
            "26 37867.0\n",
            "27 37847.0\n",
            "28 37508.0\n",
            "29 37508.0\n",
            "30 37508.0\n",
            "31 37199.0\n",
            "32 36421.0\n",
            "33 36052.0\n",
            "34 36052.0\n",
            "35 36052.0\n",
            "36 36032.0\n",
            "37 35663.0\n",
            "38 35025.0\n",
            "39 34367.0\n",
            "40 34367.0\n",
            "41 34307.0\n",
            "42 34307.0\n",
            "43 34307.0\n",
            "44 34307.0\n",
            "45 33958.0\n",
            "46 33958.0\n",
            "47 33958.0\n",
            "48 33589.0\n",
            "49 33589.0\n",
            "50 33589.0\n",
            "51 33260.0\n",
            "52 32891.0\n",
            "53 32532.0\n",
            "54 32532.0\n",
            "55 32522.0\n",
            "56 31814.0\n",
            "57 31455.0\n",
            "58 31096.0\n",
            "59 31096.0\n",
            "60 31056.0\n",
            "61 30986.0\n",
            "62 30657.0\n",
            "63 30657.0\n",
            "64 30657.0\n",
            "65 30318.0\n",
            "66 30019.0\n",
            "67 29690.0\n",
            "68 29361.0\n",
            "69 29022.0\n",
            "70 29022.0\n",
            "71 29022.0\n",
            "72 29002.0\n",
            "73 28673.0\n",
            "74 28673.0\n",
            "75 28354.0\n",
            "76 28354.0\n",
            "77 28354.0\n",
            "78 28354.0\n",
            "79 28025.0\n",
            "80 28025.0\n",
            "81 28025.0\n",
            "82 28025.0\n",
            "83 28025.0\n",
            "84 28025.0\n",
            "85 27477.0\n",
            "86 27328.0\n",
            "87 27059.0\n",
            "88 26720.0\n",
            "89 26401.0\n",
            "90 26062.0\n",
            "91 25444.0\n",
            "92 25444.0\n",
            "93 25384.0\n",
            "94 25384.0\n",
            "95 25215.0\n",
            "96 25215.0\n",
            "97 24906.0\n",
            "98 24906.0\n",
            "99 24906.0\n",
            "100 24677.0\n",
            "101 24397.0\n",
            "102 24368.0\n",
            "103 24368.0\n",
            "104 24129.0\n",
            "105 23800.0\n",
            "106 23800.0\n",
            "107 23800.0\n",
            "108 23800.0\n",
            "109 23700.0\n",
            "110 23461.0\n",
            "111 23142.0\n",
            "112 23142.0\n",
            "113 23142.0\n",
            "114 23101.0\n",
            "115 22862.0\n",
            "116 22862.0\n",
            "117 22842.0\n",
            "118 22563.0\n",
            "119 22424.0\n",
            "120 22095.0\n",
            "121 21816.0\n",
            "122 21816.0\n",
            "123 21547.0\n",
            "124 21288.0\n",
            "125 21288.0\n",
            "126 21218.0\n",
            "127 21218.0\n",
            "128 21208.0\n",
            "129 20879.0\n",
            "130 20590.0\n",
            "131 20590.0\n",
            "132 20520.0\n",
            "133 20271.0\n",
            "134 20032.0\n",
            "135 19753.0\n",
            "136 19474.0\n",
            "137 19474.0\n",
            "138 19474.0\n",
            "139 19415.0\n",
            "140 19186.0\n",
            "141 18917.0\n",
            "142 18668.0\n",
            "143 18648.0\n",
            "144 18648.0\n",
            "145 18439.0\n",
            "146 18379.0\n",
            "147 18379.0\n",
            "148 18379.0\n",
            "149 18379.0\n",
            "150 18379.0\n",
            "151 18140.0\n",
            "152 18140.0\n",
            "153 17871.0\n",
            "154 17871.0\n",
            "155 17871.0\n",
            "156 17672.0\n",
            "157 17672.0\n",
            "158 17652.0\n",
            "159 17652.0\n",
            "160 17373.0\n",
            "161 17353.0\n",
            "162 17353.0\n",
            "163 17114.0\n",
            "164 17094.0\n",
            "165 16885.0\n",
            "166 16626.0\n",
            "167 16347.0\n",
            "168 16347.0\n",
            "169 16347.0\n",
            "170 16347.0\n",
            "171 16347.0\n",
            "172 16347.0\n",
            "173 16098.0\n",
            "174 15839.0\n",
            "175 15839.0\n",
            "176 15839.0\n",
            "177 15610.0\n",
            "178 15610.0\n",
            "179 15600.0\n",
            "180 15600.0\n",
            "181 15600.0\n",
            "182 15600.0\n",
            "183 15600.0\n",
            "184 15600.0\n",
            "185 15600.0\n",
            "186 15600.0\n",
            "187 15600.0\n",
            "188 15600.0\n",
            "189 15600.0\n",
            "190 15600.0\n",
            "191 15600.0\n",
            "192 15600.0\n",
            "193 15481.0\n",
            "194 15252.0\n",
            "195 15033.0\n",
            "196 15033.0\n",
            "197 14963.0\n",
            "198 14495.0\n",
            "199 14495.0\n",
            "200 14465.0\n"
          ]
        }
      ],
      "source": [
        "best_cost_GA, best_sol_GA = genetic_algorithm(graph_matrix)"
      ]
    }
  ]
}